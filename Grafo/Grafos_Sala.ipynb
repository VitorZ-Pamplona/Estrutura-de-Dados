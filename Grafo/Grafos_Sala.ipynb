{
  "nbformat": 4,
  "nbformat_minor": 0,
  "metadata": {
    "colab": {
      "provenance": []
    },
    "kernelspec": {
      "name": "python3",
      "display_name": "Python 3"
    },
    "language_info": {
      "name": "python"
    }
  },
  "cells": [
    {
      "cell_type": "markdown",
      "source": [
        "##Classe do Grafo\n",
        "Depois separar como arquivo unico."
      ],
      "metadata": {
        "id": "JkGJ9cVh8ndd"
      }
    },
    {
      "cell_type": "code",
      "source": [
        "import queue\n",
        "\n",
        "#Constante\n",
        "BRANCO = 0\n",
        "CINZA = 1\n",
        "PRETO = 2\n",
        "\n",
        "class Graph:\n",
        "  def __init__(self, n):\n",
        "    self.n = n\n",
        "    self.M = [[0 for _ in range(n)] for _ in range(n)]\n",
        "    self.L = [[] for _ in range(n)]\n",
        "\n",
        "    self.pai = [None for _ in range(n)]\n",
        "    self.d = [-1 for _ in range(n)]\n",
        "\n",
        "#Numero de componetes convecços\n",
        "  def num_cc (self):\n",
        "    n_comp = 0\n",
        "    for p in self.pai:\n",
        "      if p == -1:\n",
        "        n_comp += 1\n",
        "    return n_comp\n",
        "\n",
        "#Busca em largura de grafo\n",
        "  def bfs (self, source):\n",
        "    #Inicialização das variaveis\n",
        "    cor = [BRANCO for _ in range(self.n)]\n",
        "    cor[source] = CINZA\n",
        "    self.d[source] = 0\n",
        "    Q = queue.Queue()\n",
        "    Q.put(source)\n",
        "\n",
        "    while (Q.empty() == False):\n",
        "      u = Q.get()\n",
        "      for v in self.L[u]:\n",
        "        if cor[v] == BRANCO:\n",
        "          cor[v] = CINZA\n",
        "          self.d[v] = self.d[u] + 1\n",
        "          self.pai[v] = u\n",
        "          Q.put(v)\n",
        "      cor[u] = PRETO\n",
        "    \n",
        "    print(self.d)\n",
        "    print(self.pai)\n",
        "\n",
        "#Busca em Largura Caminho \\\\ error\n",
        "  def bfs_caminho(self, source, end):\n",
        "    queue = []\n",
        "    queue.append([source])\n",
        "    while queue:\n",
        "      caminho = queue.pop(0)\n",
        "      no = caminho[-1]\n",
        "      if no == end:\n",
        "          return no\n",
        "      for adjacent in self.n:\n",
        "          novo_caminho = list(caminho)\n",
        "          novo_caminho.append(adjacent)\n",
        "          queue.append(novo_caminho)\n",
        "\n",
        "#Busca em Profundidade\n",
        "  def dfs (self):\n",
        "    #Inicialização das variaveis\n",
        "    self.cor = [BRANCO for _ in range(self.n)]\n",
        "    for u in range(self.n):\n",
        "      self.pai[u] = -1\n",
        "    \n",
        "    #Visitando todos os vertices\n",
        "    for u in range(self.n):\n",
        "      if(self.cor[u] == BRANCO):\n",
        "        self.dfs_visit(u)\n",
        "    \n",
        "    print(self.pai)\n",
        "  \n",
        "  def dfs_visit(self, u):\n",
        "    self.cor[u] = CINZA\n",
        "    for v in self.L[u]:\n",
        "      if self.cor[v] == BRANCO:\n",
        "        self.pai[v] = u\n",
        "        self.dfs_visit(v)\n",
        "\n",
        "#Busca em Profundidade sem recursão\n",
        "  def dfs_r (self,u):\n",
        "    self.cor = [BRANCO for _ in range(self.n)]\n",
        "    pilha = []\n",
        "    pilha.append(u)\n",
        "\n",
        "    while (len(pilha)):\n",
        "      u = pilha[-1]\n",
        "      pilha.pop()\n",
        "      if (self.cor[u] != BRANCO):\n",
        "        print(u,end=' ')\n",
        "        self.cor[u] = CINZA\n",
        "\n",
        "      for v in self.L[u]:\n",
        "        if (self.cor[v] != BRANCO):\n",
        "          pilha.append(v)"
      ],
      "metadata": {
        "id": "As44APp5Axgn"
      },
      "execution_count": 78,
      "outputs": []
    },
    {
      "cell_type": "markdown",
      "source": [
        "##Leitura do Arquivo\n",
        "Depois separar com arquivo Unico!"
      ],
      "metadata": {
        "id": "Rd-8u2DuKYsp"
      }
    },
    {
      "cell_type": "code",
      "source": [
        "def load_from(filename):\n",
        "  f = open(filename , 'r')\n",
        "  n = int(f.readline())\n",
        "\n",
        "  g = Graph(n)\n",
        "\n",
        "  l = 0\n",
        "  for line in f:\n",
        "    line.strip()\n",
        "    numeros = line.split(\"\\t\")\n",
        "    c = 0\n",
        "    for i in numeros:\n",
        "      g.M[l][c] = int(i)\n",
        "      if(g.M[l][c] > 0):\n",
        "        g.L[l].append(c)\n",
        "\n",
        "      c += 1\n",
        "    l += 1\n",
        "  return g\n",
        "\n",
        "gr = load_from(\"/content/pcv50.txt\")\n",
        "gr.bfs(0)\n",
        "print (\"\\n\")\n",
        "gr.dfs()\n",
        "print (\"\\n\")\n",
        "gr.dfs_r(0)"
      ],
      "metadata": {
        "id": "oLT6twjCAzvO",
        "colab": {
          "base_uri": "https://localhost:8080/"
        },
        "outputId": "6e5e8827-e151-4de1-b2f1-374aeb05df6e"
      },
      "execution_count": 79,
      "outputs": [
        {
          "output_type": "stream",
          "name": "stdout",
          "text": [
            "[0, 2, 2, 2, 2, 2, 2, 3, 3, 3, 1, 1, 2, 2, 1, 2, 2, 1, 2, 2, 1, 1, 2, 2, 3, 3, 3, 3, 3, 2, 2, 2, 3, 2, 2, 4, 3, 3, 3, 3, 4, 4, 4, 4, 4, 5, 4, 4, 5, 5]\n",
            "[None, 17, 11, 17, 17, 17, 17, 19, 1, 5, 0, 0, 10, 10, 0, 11, 11, 0, 11, 11, 0, 0, 11, 17, 22, 19, 16, 22, 2, 17, 10, 10, 12, 10, 14, 36, 13, 33, 34, 33, 36, 36, 38, 38, 36, 44, 38, 38, 41, 44]\n",
            "\n",
            "\n",
            "[-1, 2, 11, 1, 3, 4, 5, 6, 7, 8, 0, 13, 10, 12, 23, 14, 15, 16, 17, 18, 19, 20, 21, 24, 9, 22, 25, 26, 27, 28, 33, 30, 31, 16, 32, 36, 34, 39, 35, 38, 41, 47, 40, 42, 39, 44, 43, 45, 46, 48]\n",
            "\n",
            "\n"
          ]
        }
      ]
    }
  ]
}